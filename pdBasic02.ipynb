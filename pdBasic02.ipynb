{
 "cells": [
  {
   "cell_type": "code",
   "execution_count": 1,
   "id": "41d13476-9829-4cb8-951d-ac7a4891f17b",
   "metadata": {},
   "outputs": [],
   "source": [
    "import numpy as np\n",
    "import pandas as pd"
   ]
  },
  {
   "cell_type": "code",
   "execution_count": 4,
   "id": "185e5625-461d-4fbc-a79f-61d95a9535ae",
   "metadata": {},
   "outputs": [],
   "source": [
    "mno=pd.read_csv('xyz.csv')"
   ]
  },
  {
   "cell_type": "code",
   "execution_count": 5,
   "id": "513edd31-6249-4f8a-9a82-641a32d0686b",
   "metadata": {},
   "outputs": [
    {
     "data": {
      "text/html": [
       "<div>\n",
       "<style scoped>\n",
       "    .dataframe tbody tr th:only-of-type {\n",
       "        vertical-align: middle;\n",
       "    }\n",
       "\n",
       "    .dataframe tbody tr th {\n",
       "        vertical-align: top;\n",
       "    }\n",
       "\n",
       "    .dataframe thead th {\n",
       "        text-align: right;\n",
       "    }\n",
       "</style>\n",
       "<table border=\"1\" class=\"dataframe\">\n",
       "  <thead>\n",
       "    <tr style=\"text-align: right;\">\n",
       "      <th></th>\n",
       "      <th>Unnamed: 0</th>\n",
       "      <th>Train</th>\n",
       "      <th>Speed</th>\n",
       "      <th>City</th>\n",
       "    </tr>\n",
       "  </thead>\n",
       "  <tbody>\n",
       "    <tr>\n",
       "      <th>0</th>\n",
       "      <td>1</td>\n",
       "      <td>1458</td>\n",
       "      <td>135</td>\n",
       "      <td>bwn</td>\n",
       "    </tr>\n",
       "    <tr>\n",
       "      <th>1</th>\n",
       "      <td>2</td>\n",
       "      <td>9957</td>\n",
       "      <td>105</td>\n",
       "      <td>jpg</td>\n",
       "    </tr>\n",
       "    <tr>\n",
       "      <th>2</th>\n",
       "      <td>3</td>\n",
       "      <td>4587</td>\n",
       "      <td>95</td>\n",
       "      <td>rnc</td>\n",
       "    </tr>\n",
       "    <tr>\n",
       "      <th>3</th>\n",
       "      <td>4</td>\n",
       "      <td>3255</td>\n",
       "      <td>180</td>\n",
       "      <td>jpe</td>\n",
       "    </tr>\n",
       "  </tbody>\n",
       "</table>\n",
       "</div>"
      ],
      "text/plain": [
       "   Unnamed: 0  Train  Speed City\n",
       "0           1   1458    135  bwn\n",
       "1           2   9957    105  jpg\n",
       "2           3   4587     95  rnc\n",
       "3           4   3255    180  jpe"
      ]
     },
     "execution_count": 5,
     "metadata": {},
     "output_type": "execute_result"
    }
   ],
   "source": [
    "mno"
   ]
  },
  {
   "cell_type": "code",
   "execution_count": 6,
   "id": "592c1896-2158-4b68-9d30-d45bfd2c2d89",
   "metadata": {},
   "outputs": [],
   "source": [
    "mno.index=[\"first\",\"second\",\"third\",\"fourth\"]"
   ]
  },
  {
   "cell_type": "code",
   "execution_count": 7,
   "id": "4c442365-6db8-4f76-9904-351a9167715f",
   "metadata": {},
   "outputs": [
    {
     "data": {
      "text/html": [
       "<div>\n",
       "<style scoped>\n",
       "    .dataframe tbody tr th:only-of-type {\n",
       "        vertical-align: middle;\n",
       "    }\n",
       "\n",
       "    .dataframe tbody tr th {\n",
       "        vertical-align: top;\n",
       "    }\n",
       "\n",
       "    .dataframe thead th {\n",
       "        text-align: right;\n",
       "    }\n",
       "</style>\n",
       "<table border=\"1\" class=\"dataframe\">\n",
       "  <thead>\n",
       "    <tr style=\"text-align: right;\">\n",
       "      <th></th>\n",
       "      <th>Unnamed: 0</th>\n",
       "      <th>Train</th>\n",
       "      <th>Speed</th>\n",
       "      <th>City</th>\n",
       "    </tr>\n",
       "  </thead>\n",
       "  <tbody>\n",
       "    <tr>\n",
       "      <th>first</th>\n",
       "      <td>1</td>\n",
       "      <td>1458</td>\n",
       "      <td>135</td>\n",
       "      <td>bwn</td>\n",
       "    </tr>\n",
       "    <tr>\n",
       "      <th>second</th>\n",
       "      <td>2</td>\n",
       "      <td>9957</td>\n",
       "      <td>105</td>\n",
       "      <td>jpg</td>\n",
       "    </tr>\n",
       "    <tr>\n",
       "      <th>third</th>\n",
       "      <td>3</td>\n",
       "      <td>4587</td>\n",
       "      <td>95</td>\n",
       "      <td>rnc</td>\n",
       "    </tr>\n",
       "    <tr>\n",
       "      <th>fourth</th>\n",
       "      <td>4</td>\n",
       "      <td>3255</td>\n",
       "      <td>180</td>\n",
       "      <td>jpe</td>\n",
       "    </tr>\n",
       "  </tbody>\n",
       "</table>\n",
       "</div>"
      ],
      "text/plain": [
       "        Unnamed: 0  Train  Speed City\n",
       "first            1   1458    135  bwn\n",
       "second           2   9957    105  jpg\n",
       "third            3   4587     95  rnc\n",
       "fourth           4   3255    180  jpe"
      ]
     },
     "execution_count": 7,
     "metadata": {},
     "output_type": "execute_result"
    }
   ],
   "source": [
    "mno"
   ]
  },
  {
   "cell_type": "code",
   "execution_count": null,
   "id": "74389a01-ae8c-4794-95fc-139bf887b774",
   "metadata": {},
   "outputs": [],
   "source": []
  }
 ],
 "metadata": {
  "kernelspec": {
   "display_name": "Python 3 (ipykernel)",
   "language": "python",
   "name": "python3"
  },
  "language_info": {
   "codemirror_mode": {
    "name": "ipython",
    "version": 3
   },
   "file_extension": ".py",
   "mimetype": "text/x-python",
   "name": "python",
   "nbconvert_exporter": "python",
   "pygments_lexer": "ipython3",
   "version": "3.10.7"
  }
 },
 "nbformat": 4,
 "nbformat_minor": 5
}
