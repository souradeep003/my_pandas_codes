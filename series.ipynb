{
 "cells": [
  {
   "cell_type": "code",
   "execution_count": 5,
   "id": "ff4e3bda-43b4-4029-b301-c880173ab648",
   "metadata": {},
   "outputs": [],
   "source": [
    "import numpy as np\n",
    "import pandas as pd"
   ]
  },
  {
   "cell_type": "code",
   "execution_count": 6,
   "id": "29cfc225-53b9-446d-8e87-53c717dec53f",
   "metadata": {},
   "outputs": [],
   "source": [
    "ser=pd.Series(np.random.rand(34))"
   ]
  },
  {
   "cell_type": "code",
   "execution_count": 7,
   "id": "5e180910-4038-4355-a375-7a503e097d70",
   "metadata": {},
   "outputs": [
    {
     "data": {
      "text/plain": [
       "0     0.751053\n",
       "1     0.012017\n",
       "2     0.025979\n",
       "3     0.956626\n",
       "4     0.460834\n",
       "5     0.208497\n",
       "6     0.898613\n",
       "7     0.001218\n",
       "8     0.595163\n",
       "9     0.309161\n",
       "10    0.906680\n",
       "11    0.306651\n",
       "12    0.565405\n",
       "13    0.356737\n",
       "14    0.199903\n",
       "15    0.201651\n",
       "16    0.900182\n",
       "17    0.528555\n",
       "18    0.486495\n",
       "19    0.992674\n",
       "20    0.870561\n",
       "21    0.468411\n",
       "22    0.988431\n",
       "23    0.465321\n",
       "24    0.159502\n",
       "25    0.334360\n",
       "26    0.483585\n",
       "27    0.373825\n",
       "28    0.996120\n",
       "29    0.385466\n",
       "30    0.820548\n",
       "31    0.791838\n",
       "32    0.886520\n",
       "33    0.700856\n",
       "dtype: float64"
      ]
     },
     "execution_count": 7,
     "metadata": {},
     "output_type": "execute_result"
    }
   ],
   "source": [
    "ser"
   ]
  },
  {
   "cell_type": "code",
   "execution_count": 8,
   "id": "d092a4fb-76fa-44d9-9212-497783e4deb1",
   "metadata": {},
   "outputs": [
    {
     "data": {
      "text/plain": [
       "pandas.core.series.Series"
      ]
     },
     "execution_count": 8,
     "metadata": {},
     "output_type": "execute_result"
    }
   ],
   "source": [
    "type(ser)"
   ]
  },
  {
   "cell_type": "code",
   "execution_count": null,
   "id": "3f80087e-153c-4926-b47f-8e5ba26980c1",
   "metadata": {},
   "outputs": [],
   "source": []
  }
 ],
 "metadata": {
  "kernelspec": {
   "display_name": "Python 3 (ipykernel)",
   "language": "python",
   "name": "python3"
  },
  "language_info": {
   "codemirror_mode": {
    "name": "ipython",
    "version": 3
   },
   "file_extension": ".py",
   "mimetype": "text/x-python",
   "name": "python",
   "nbconvert_exporter": "python",
   "pygments_lexer": "ipython3",
   "version": "3.10.7"
  }
 },
 "nbformat": 4,
 "nbformat_minor": 5
}
