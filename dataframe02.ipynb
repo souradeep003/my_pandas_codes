{
 "cells": [
  {
   "cell_type": "code",
   "execution_count": 1,
   "id": "4db42804-e72c-47d5-bc1d-287d3e4b0a44",
   "metadata": {},
   "outputs": [],
   "source": [
    "import numpy as np\n",
    "import pandas as pd"
   ]
  },
  {
   "cell_type": "code",
   "execution_count": 2,
   "id": "5cc6cf2a-04f5-4ef4-9671-08f2f98057f8",
   "metadata": {},
   "outputs": [],
   "source": [
    "newdf=pd.DataFrame(np.random.rand(20,5))"
   ]
  },
  {
   "cell_type": "code",
   "execution_count": 3,
   "id": "07ef319d-dbc6-4fb0-a872-81c32ce9bf51",
   "metadata": {},
   "outputs": [
    {
     "data": {
      "text/plain": [
       "0    float64\n",
       "1    float64\n",
       "2    float64\n",
       "3    float64\n",
       "4    float64\n",
       "dtype: object"
      ]
     },
     "execution_count": 3,
     "metadata": {},
     "output_type": "execute_result"
    }
   ],
   "source": [
    "newdf.dtypes"
   ]
  },
  {
   "cell_type": "code",
   "execution_count": 4,
   "id": "9f674729-770c-4f10-9d9d-91231b53204c",
   "metadata": {},
   "outputs": [
    {
     "name": "stderr",
     "output_type": "stream",
     "text": [
      "C:\\Users\\hp\\AppData\\Local\\Temp\\ipykernel_14692\\2518634006.py:1: FutureWarning: ChainedAssignmentError: behaviour will change in pandas 3.0!\n",
      "You are setting values through chained assignment. Currently this works in certain cases, but when using Copy-on-Write (which will become the default behaviour in pandas 3.0) this will never work to update the original DataFrame or Series, because the intermediate object on which we are setting values will behave as a copy.\n",
      "A typical example is when you are setting values in a column of a DataFrame, like:\n",
      "\n",
      "df[\"col\"][row_indexer] = value\n",
      "\n",
      "Use `df.loc[row_indexer, \"col\"] = values` instead, to perform the assignment in a single step and ensure this keeps updating the original `df`.\n",
      "\n",
      "See the caveats in the documentation: https://pandas.pydata.org/pandas-docs/stable/user_guide/indexing.html#returning-a-view-versus-a-copy\n",
      "\n",
      "  newdf[0][0]=\"harry\"\n",
      "C:\\Users\\hp\\AppData\\Local\\Temp\\ipykernel_14692\\2518634006.py:1: FutureWarning: Setting an item of incompatible dtype is deprecated and will raise an error in a future version of pandas. Value 'harry' has dtype incompatible with float64, please explicitly cast to a compatible dtype first.\n",
      "  newdf[0][0]=\"harry\"\n"
     ]
    }
   ],
   "source": [
    "newdf[0][0]=\"harry\""
   ]
  },
  {
   "cell_type": "code",
   "execution_count": 5,
   "id": "1e5033ee-3881-47dc-990f-942689e67c8a",
   "metadata": {},
   "outputs": [
    {
     "data": {
      "text/html": [
       "<div>\n",
       "<style scoped>\n",
       "    .dataframe tbody tr th:only-of-type {\n",
       "        vertical-align: middle;\n",
       "    }\n",
       "\n",
       "    .dataframe tbody tr th {\n",
       "        vertical-align: top;\n",
       "    }\n",
       "\n",
       "    .dataframe thead th {\n",
       "        text-align: right;\n",
       "    }\n",
       "</style>\n",
       "<table border=\"1\" class=\"dataframe\">\n",
       "  <thead>\n",
       "    <tr style=\"text-align: right;\">\n",
       "      <th></th>\n",
       "      <th>0</th>\n",
       "      <th>1</th>\n",
       "      <th>2</th>\n",
       "      <th>3</th>\n",
       "      <th>4</th>\n",
       "    </tr>\n",
       "  </thead>\n",
       "  <tbody>\n",
       "    <tr>\n",
       "      <th>0</th>\n",
       "      <td>harry</td>\n",
       "      <td>0.405517</td>\n",
       "      <td>0.655617</td>\n",
       "      <td>0.014415</td>\n",
       "      <td>0.308442</td>\n",
       "    </tr>\n",
       "    <tr>\n",
       "      <th>1</th>\n",
       "      <td>0.022624</td>\n",
       "      <td>0.725653</td>\n",
       "      <td>0.221843</td>\n",
       "      <td>0.963624</td>\n",
       "      <td>0.857131</td>\n",
       "    </tr>\n",
       "    <tr>\n",
       "      <th>2</th>\n",
       "      <td>0.321319</td>\n",
       "      <td>0.150225</td>\n",
       "      <td>0.937700</td>\n",
       "      <td>0.218775</td>\n",
       "      <td>0.103146</td>\n",
       "    </tr>\n",
       "    <tr>\n",
       "      <th>3</th>\n",
       "      <td>0.496425</td>\n",
       "      <td>0.925215</td>\n",
       "      <td>0.743064</td>\n",
       "      <td>0.204764</td>\n",
       "      <td>0.406507</td>\n",
       "    </tr>\n",
       "    <tr>\n",
       "      <th>4</th>\n",
       "      <td>0.953902</td>\n",
       "      <td>0.817910</td>\n",
       "      <td>0.338665</td>\n",
       "      <td>0.823295</td>\n",
       "      <td>0.092093</td>\n",
       "    </tr>\n",
       "    <tr>\n",
       "      <th>5</th>\n",
       "      <td>0.095139</td>\n",
       "      <td>0.786387</td>\n",
       "      <td>0.056951</td>\n",
       "      <td>0.661323</td>\n",
       "      <td>0.892807</td>\n",
       "    </tr>\n",
       "    <tr>\n",
       "      <th>6</th>\n",
       "      <td>0.350268</td>\n",
       "      <td>0.367742</td>\n",
       "      <td>0.074726</td>\n",
       "      <td>0.620421</td>\n",
       "      <td>0.176888</td>\n",
       "    </tr>\n",
       "    <tr>\n",
       "      <th>7</th>\n",
       "      <td>0.961288</td>\n",
       "      <td>0.569083</td>\n",
       "      <td>0.319108</td>\n",
       "      <td>0.056686</td>\n",
       "      <td>0.891577</td>\n",
       "    </tr>\n",
       "    <tr>\n",
       "      <th>8</th>\n",
       "      <td>0.209107</td>\n",
       "      <td>0.833383</td>\n",
       "      <td>0.985267</td>\n",
       "      <td>0.568482</td>\n",
       "      <td>0.945747</td>\n",
       "    </tr>\n",
       "    <tr>\n",
       "      <th>9</th>\n",
       "      <td>0.177121</td>\n",
       "      <td>0.973713</td>\n",
       "      <td>0.880515</td>\n",
       "      <td>0.094059</td>\n",
       "      <td>0.080093</td>\n",
       "    </tr>\n",
       "    <tr>\n",
       "      <th>10</th>\n",
       "      <td>0.876879</td>\n",
       "      <td>0.444685</td>\n",
       "      <td>0.048680</td>\n",
       "      <td>0.765052</td>\n",
       "      <td>0.665154</td>\n",
       "    </tr>\n",
       "    <tr>\n",
       "      <th>11</th>\n",
       "      <td>0.688589</td>\n",
       "      <td>0.535143</td>\n",
       "      <td>0.274982</td>\n",
       "      <td>0.706926</td>\n",
       "      <td>0.025716</td>\n",
       "    </tr>\n",
       "    <tr>\n",
       "      <th>12</th>\n",
       "      <td>0.244478</td>\n",
       "      <td>0.123986</td>\n",
       "      <td>0.621035</td>\n",
       "      <td>0.397787</td>\n",
       "      <td>0.817319</td>\n",
       "    </tr>\n",
       "    <tr>\n",
       "      <th>13</th>\n",
       "      <td>0.82288</td>\n",
       "      <td>0.615073</td>\n",
       "      <td>0.928420</td>\n",
       "      <td>0.703150</td>\n",
       "      <td>0.003641</td>\n",
       "    </tr>\n",
       "    <tr>\n",
       "      <th>14</th>\n",
       "      <td>0.3949</td>\n",
       "      <td>0.277858</td>\n",
       "      <td>0.213600</td>\n",
       "      <td>0.977604</td>\n",
       "      <td>0.512868</td>\n",
       "    </tr>\n",
       "    <tr>\n",
       "      <th>15</th>\n",
       "      <td>0.601291</td>\n",
       "      <td>0.121053</td>\n",
       "      <td>0.323397</td>\n",
       "      <td>0.800886</td>\n",
       "      <td>0.276988</td>\n",
       "    </tr>\n",
       "    <tr>\n",
       "      <th>16</th>\n",
       "      <td>0.39273</td>\n",
       "      <td>0.397987</td>\n",
       "      <td>0.273408</td>\n",
       "      <td>0.412197</td>\n",
       "      <td>0.970344</td>\n",
       "    </tr>\n",
       "    <tr>\n",
       "      <th>17</th>\n",
       "      <td>0.845338</td>\n",
       "      <td>0.439853</td>\n",
       "      <td>0.714714</td>\n",
       "      <td>0.171902</td>\n",
       "      <td>0.809231</td>\n",
       "    </tr>\n",
       "    <tr>\n",
       "      <th>18</th>\n",
       "      <td>0.627973</td>\n",
       "      <td>0.923423</td>\n",
       "      <td>0.824027</td>\n",
       "      <td>0.379858</td>\n",
       "      <td>0.022210</td>\n",
       "    </tr>\n",
       "    <tr>\n",
       "      <th>19</th>\n",
       "      <td>0.860241</td>\n",
       "      <td>0.295081</td>\n",
       "      <td>0.683124</td>\n",
       "      <td>0.069741</td>\n",
       "      <td>0.123594</td>\n",
       "    </tr>\n",
       "  </tbody>\n",
       "</table>\n",
       "</div>"
      ],
      "text/plain": [
       "           0         1         2         3         4\n",
       "0      harry  0.405517  0.655617  0.014415  0.308442\n",
       "1   0.022624  0.725653  0.221843  0.963624  0.857131\n",
       "2   0.321319  0.150225  0.937700  0.218775  0.103146\n",
       "3   0.496425  0.925215  0.743064  0.204764  0.406507\n",
       "4   0.953902  0.817910  0.338665  0.823295  0.092093\n",
       "5   0.095139  0.786387  0.056951  0.661323  0.892807\n",
       "6   0.350268  0.367742  0.074726  0.620421  0.176888\n",
       "7   0.961288  0.569083  0.319108  0.056686  0.891577\n",
       "8   0.209107  0.833383  0.985267  0.568482  0.945747\n",
       "9   0.177121  0.973713  0.880515  0.094059  0.080093\n",
       "10  0.876879  0.444685  0.048680  0.765052  0.665154\n",
       "11  0.688589  0.535143  0.274982  0.706926  0.025716\n",
       "12  0.244478  0.123986  0.621035  0.397787  0.817319\n",
       "13   0.82288  0.615073  0.928420  0.703150  0.003641\n",
       "14    0.3949  0.277858  0.213600  0.977604  0.512868\n",
       "15  0.601291  0.121053  0.323397  0.800886  0.276988\n",
       "16   0.39273  0.397987  0.273408  0.412197  0.970344\n",
       "17  0.845338  0.439853  0.714714  0.171902  0.809231\n",
       "18  0.627973  0.923423  0.824027  0.379858  0.022210\n",
       "19  0.860241  0.295081  0.683124  0.069741  0.123594"
      ]
     },
     "execution_count": 5,
     "metadata": {},
     "output_type": "execute_result"
    }
   ],
   "source": [
    "newdf"
   ]
  },
  {
   "cell_type": "code",
   "execution_count": 6,
   "id": "dcb74fe0-43aa-4d2c-be74-a2df4e822412",
   "metadata": {},
   "outputs": [
    {
     "data": {
      "text/plain": [
       "0     object\n",
       "1    float64\n",
       "2    float64\n",
       "3    float64\n",
       "4    float64\n",
       "dtype: object"
      ]
     },
     "execution_count": 6,
     "metadata": {},
     "output_type": "execute_result"
    }
   ],
   "source": [
    "newdf.dtypes"
   ]
  },
  {
   "cell_type": "code",
   "execution_count": 7,
   "id": "48fc22c5-d75b-4f64-b9bc-ccc03169b708",
   "metadata": {},
   "outputs": [
    {
     "data": {
      "text/plain": [
       "RangeIndex(start=0, stop=20, step=1)"
      ]
     },
     "execution_count": 7,
     "metadata": {},
     "output_type": "execute_result"
    }
   ],
   "source": [
    "newdf.index"
   ]
  },
  {
   "cell_type": "code",
   "execution_count": 9,
   "id": "88e42f02-2b5b-4a07-9694-4d0d97e99934",
   "metadata": {},
   "outputs": [
    {
     "data": {
      "text/plain": [
       "RangeIndex(start=0, stop=5, step=1)"
      ]
     },
     "execution_count": 9,
     "metadata": {},
     "output_type": "execute_result"
    }
   ],
   "source": [
    "newdf.columns"
   ]
  },
  {
   "cell_type": "code",
   "execution_count": null,
   "id": "06526f90-4434-45d9-bb63-311754f3e647",
   "metadata": {},
   "outputs": [],
   "source": []
  }
 ],
 "metadata": {
  "kernelspec": {
   "display_name": "Python 3 (ipykernel)",
   "language": "python",
   "name": "python3"
  },
  "language_info": {
   "codemirror_mode": {
    "name": "ipython",
    "version": 3
   },
   "file_extension": ".py",
   "mimetype": "text/x-python",
   "name": "python",
   "nbconvert_exporter": "python",
   "pygments_lexer": "ipython3",
   "version": "3.10.7"
  }
 },
 "nbformat": 4,
 "nbformat_minor": 5
}
